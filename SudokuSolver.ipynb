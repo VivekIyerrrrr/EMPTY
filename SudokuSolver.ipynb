{
 "cells": [
  {
   "cell_type": "code",
   "execution_count": 1,
   "id": "98ea4c55-4ac0-4954-928f-9eb4d8e8939e",
   "metadata": {},
   "outputs": [
    {
     "name": "stdout",
     "output_type": "stream",
     "text": [
      "3 1 6 5 7 8 4 9 2 \n",
      "5 2 9 1 3 4 7 6 8 \n",
      "4 8 7 6 2 9 5 3 1 \n",
      "2 6 3 4 1 5 9 8 7 \n",
      "9 7 4 8 6 3 1 2 5 \n",
      "8 5 1 7 9 2 6 4 3 \n",
      "1 3 8 9 4 7 2 5 6 \n",
      "6 9 2 3 5 1 8 7 4 \n",
      "7 4 5 2 8 6 3 1 9 \n"
     ]
    }
   ],
   "source": [
    "def is_valid_move(grid, row, col, number):\n",
    "    for x in range(9):\n",
    "        if grid[row][x] == number:\n",
    "            return False\n",
    "\n",
    "    for x in range(9):\n",
    "        if grid[x][col] == number:\n",
    "            return False\n",
    "\n",
    "    corner_row = row - row % 3\n",
    "    corner_col = col - col % 3\n",
    "\n",
    "    for x in range(3):\n",
    "        for y in range(3):\n",
    "            if grid[corner_row + x][corner_col + y] == number:\n",
    "                return False\n",
    "\n",
    "    return True\n",
    "\n",
    "\n",
    "def solve(grid, row, col):\n",
    "    if col == 9:\n",
    "        if row == 8:\n",
    "            return True\n",
    "        row += 1\n",
    "        col = 0\n",
    "\n",
    "    if grid[row][col] > 0:\n",
    "        return solve(grid, row, col + 1)\n",
    "\n",
    "    for num in range(1, 10):\n",
    "        if is_valid_move(grid, row, col, num):\n",
    "            grid[row][col] = num\n",
    "            if solve(grid, row, col + 1):\n",
    "                return True\n",
    "        grid[row][col] = 0\n",
    "\n",
    "    return False\n",
    "\n",
    "\n",
    "grid = [[3, 0, 6, 5, 0, 8, 4, 0, 0],\n",
    "        [5, 2, 0, 0, 0, 0, 0, 0, 0],\n",
    "        [0, 8, 7, 0, 0, 0, 0, 3, 1],\n",
    "        [0, 0, 3, 0, 1, 0, 0, 8, 0],\n",
    "        [9, 0, 0, 8, 6, 3, 0, 0, 5],\n",
    "        [0, 5, 0, 0, 9, 0, 6, 0, 0],\n",
    "        [1, 3, 0, 0, 0, 0, 2, 5, 0],\n",
    "        [0, 0, 0, 0, 0, 0, 0, 7, 4],\n",
    "        [0, 0, 5, 2, 0, 6, 3, 0, 0]]\n",
    "\n",
    "if solve(grid, 0, 0):\n",
    "    for i in range(9):\n",
    "        for j in range(9):\n",
    "            print(grid[i][j], end=\" \")\n",
    "        print()\n",
    "else:\n",
    "    print(\"NOT SOLVABLE\")\n"
   ]
  },
  {
   "cell_type": "code",
   "execution_count": null,
   "id": "3b6286f2-fc77-45b7-be8d-0971e994bdb6",
   "metadata": {},
   "outputs": [],
   "source": []
  }
 ],
 "metadata": {
  "kernelspec": {
   "display_name": "Python 3 (ipykernel)",
   "language": "python",
   "name": "python3"
  },
  "language_info": {
   "codemirror_mode": {
    "name": "ipython",
    "version": 3
   },
   "file_extension": ".py",
   "mimetype": "text/x-python",
   "name": "python",
   "nbconvert_exporter": "python",
   "pygments_lexer": "ipython3",
   "version": "3.10.0"
  }
 },
 "nbformat": 4,
 "nbformat_minor": 5
}
